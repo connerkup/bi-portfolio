{
  "cells": [
    {
      "cell_type": "markdown",
      "metadata": {
        "vscode": {
          "languageId": "raw"
        }
      },
      "source": [
        "# PackagingCo ESG & Sustainability Analysis\n",
        "\n",
        "## Business Question\n",
        "**How can PackagingCo drive ESG (Environmental, Social, Governance) goals without compromising financial health?**\n",
        "\n",
        "This notebook focuses on the **Sustainability & Impact Tracking** module, analyzing:\n",
        "- Carbon footprint trends across product lines and facilities\n",
        "- Materials mix analysis (recycled vs. virgin materials)\n",
        "- Environmental impact metrics and their relationship to costs\n",
        "- Scenario modeling for sustainability initiatives\n",
        "\n",
        "## Key Objectives\n",
        "1. **Measure current sustainability performance** across different product lines and facilities\n",
        "2. **Identify improvement opportunities** in emissions, material usage, and waste reduction\n",
        "3. **Analyze trade-offs** between environmental impact and operational costs\n",
        "4. **Provide data-driven recommendations** for ESG initiatives\n",
        "\n",
        "---\n"
      ]
    },
    {
      "cell_type": "code",
      "execution_count": null,
      "metadata": {},
      "outputs": [],
      "source": [
        "# Import required libraries\n",
        "import pandas as pd\n",
        "import numpy as np\n",
        "import matplotlib.pyplot as plt\n",
        "import seaborn as sns\n",
        "import plotly.express as px\n",
        "import plotly.graph_objects as go\n",
        "from plotly.subplots import make_subplots\n",
        "import warnings\n",
        "warnings.filterwarnings('ignore')\n",
        "\n",
        "# Set up plotting style\n",
        "plt.style.use('default')\n",
        "sns.set_palette(\"husl\")\n",
        "\n",
        "# Configure pandas display options\n",
        "pd.set_option('display.max_columns', None)\n",
        "pd.set_option('display.width', None)\n",
        "\n",
        "print(\"Libraries imported successfully!\")\n",
        "print(\"Ready for ESG data analysis 🌱\")\n"
      ]
    },
    {
      "cell_type": "markdown",
      "metadata": {
        "vscode": {
          "languageId": "raw"
        }
      },
      "source": [
        "## 1. Data Loading and Initial Exploration\n"
      ]
    },
    {
      "cell_type": "code",
      "execution_count": null,
      "metadata": {},
      "outputs": [],
      "source": [
        "# Load ESG data\n",
        "esg_data = pd.read_csv('../data/raw/sample_esg_data.csv')\n",
        "\n",
        "# Convert date column to datetime\n",
        "esg_data['date'] = pd.to_datetime(esg_data['date'])\n",
        "\n",
        "# Display basic information about the dataset\n",
        "print(\"ESG Dataset Overview\")\n",
        "print(\"=\" * 50)\n",
        "print(f\"Shape: {esg_data.shape}\")\n",
        "print(f\"Date range: {esg_data['date'].min()} to {esg_data['date'].max()}\")\n",
        "print(f\"Product lines: {esg_data['product_line'].unique()}\")\n",
        "print(f\"Facilities: {esg_data['facility'].unique()}\")\n",
        "print(\"\\nFirst few rows:\")\n",
        "esg_data.head()\n"
      ]
    },
    {
      "cell_type": "code",
      "execution_count": null,
      "metadata": {},
      "outputs": [],
      "source": [
        "# Data quality check\n",
        "print(\"Data Quality Assessment\")\n",
        "print(\"=\" * 50)\n",
        "print(\"Missing values:\")\n",
        "print(esg_data.isnull().sum())\n",
        "print(\"\\nData types:\")\n",
        "print(esg_data.dtypes)\n",
        "print(\"\\nBasic statistics:\")\n",
        "esg_data.describe()\n"
      ]
    },
    {
      "cell_type": "markdown",
      "metadata": {
        "vscode": {
          "languageId": "raw"
        }
      },
      "source": [
        "## 2. Carbon Footprint Analysis\n",
        "\n",
        "Understanding our carbon emissions across different product lines and facilities is crucial for identifying where we can make the biggest environmental impact.\n"
      ]
    },
    {
      "cell_type": "code",
      "execution_count": null,
      "metadata": {},
      "outputs": [],
      "source": [
        "# Carbon emissions trends over time\n",
        "fig = px.line(esg_data, \n",
        "              x='date', \n",
        "              y='emissions_kg_co2', \n",
        "              color='product_line',\n",
        "              facet_col='facility',\n",
        "              title='Carbon Emissions Trends by Product Line and Facility',\n",
        "              labels={'emissions_kg_co2': 'CO2 Emissions (kg)', 'date': 'Date'})\n",
        "\n",
        "fig.update_layout(height=500)\n",
        "fig.show()\n",
        "\n",
        "# Summary statistics by product line\n",
        "emissions_by_product = esg_data.groupby('product_line')['emissions_kg_co2'].agg(['mean', 'std', 'min', 'max']).round(2)\n",
        "print(\"Carbon Emissions by Product Line (kg CO2)\")\n",
        "print(\"=\" * 50)\n",
        "print(emissions_by_product)\n"
      ]
    },
    {
      "cell_type": "code",
      "execution_count": null,
      "metadata": {},
      "outputs": [],
      "source": [
        "# Emissions comparison between facilities\n",
        "fig = px.box(esg_data, x='facility', y='emissions_kg_co2', color='product_line',\n",
        "             title='Carbon Emissions Distribution by Facility and Product Line')\n",
        "fig.show()\n",
        "\n",
        "# Calculate total emissions by facility\n",
        "facility_emissions = esg_data.groupby('facility')['emissions_kg_co2'].sum()\n",
        "print(\"Total Carbon Emissions by Facility:\")\n",
        "print(facility_emissions)\n"
      ]
    },
    {
      "cell_type": "markdown",
      "metadata": {
        "vscode": {
          "languageId": "raw"
        }
      },
      "source": [
        "## 3. Materials Mix Analysis\n",
        "\n",
        "Analyzing the balance between recycled and virgin materials is key to understanding our sustainability progress and identifying opportunities for improvement.\n"
      ]
    },
    {
      "cell_type": "code",
      "execution_count": null,
      "metadata": {},
      "outputs": [],
      "source": [
        "# Materials mix trends over time\n",
        "fig = make_subplots(rows=1, cols=2, \n",
        "                    subplot_titles=('Recycled Material %', 'Virgin Material %'))\n",
        "\n",
        "for product in esg_data['product_line'].unique():\n",
        "    product_data = esg_data[esg_data['product_line'] == product]\n",
        "    \n",
        "    fig.add_trace(go.Scatter(x=product_data['date'], \n",
        "                            y=product_data['recycled_material_pct'],\n",
        "                            name=f'{product} (Recycled)',\n",
        "                            mode='lines+markers'), row=1, col=1)\n",
        "    \n",
        "    fig.add_trace(go.Scatter(x=product_data['date'], \n",
        "                            y=product_data['virgin_material_pct'],\n",
        "                            name=f'{product} (Virgin)',\n",
        "                            mode='lines+markers'), row=1, col=2)\n",
        "\n",
        "fig.update_layout(title='Materials Mix Trends by Product Line', height=400)\n",
        "fig.show()\n"
      ]
    },
    {
      "cell_type": "code",
      "execution_count": null,
      "metadata": {},
      "outputs": [],
      "source": [
        "# Average materials mix by product line\n",
        "materials_summary = esg_data.groupby('product_line').agg({\n",
        "    'recycled_material_pct': 'mean',\n",
        "    'virgin_material_pct': 'mean'\n",
        "}).round(1)\n",
        "\n",
        "print(\"Average Materials Mix by Product Line:\")\n",
        "print(\"=\" * 50)\n",
        "print(materials_summary)\n",
        "\n",
        "# Materials mix visualization\n",
        "fig = px.bar(materials_summary.reset_index(), \n",
        "             x='product_line', \n",
        "             y=['recycled_material_pct', 'virgin_material_pct'],\n",
        "             title='Average Materials Mix by Product Line',\n",
        "             labels={'value': 'Percentage (%)', 'variable': 'Material Type'})\n",
        "fig.show()\n"
      ]
    },
    {
      "cell_type": "markdown",
      "metadata": {},
      "source": [
        "## 4. ESG Impact vs Cost Analysis\n",
        "\n",
        "Let's explore the relationship between sustainability metrics and potential cost implications."
      ]
    },
    {
      "cell_type": "raw",
      "metadata": {
        "vscode": {
          "languageId": "raw"
        }
      },
      "source": [
        "## 4. ESG Impact vs Cost Analysis\n",
        "\n",
        "Let's explore the relationship between sustainability metrics and potential cost implications.\n"
      ]
    },
    {
      "cell_type": "code",
      "execution_count": null,
      "metadata": {},
      "outputs": [],
      "source": [
        "# Load sales data to analyze cost relationships\n",
        "sales_data = pd.read_csv('../data/raw/sample_sales_data.csv')\n",
        "sales_data['date'] = pd.to_datetime(sales_data['date'])\n",
        "\n",
        "# Merge ESG and sales data for combined analysis\n",
        "combined_data = pd.merge(esg_data, sales_data, on=['date', 'product_line'], how='inner')\n",
        "\n",
        "# Analyze correlation between recycled materials and costs\n",
        "correlation_analysis = combined_data.groupby('product_line').agg({\n",
        "    'recycled_material_pct': 'mean',\n",
        "    'emissions_kg_co2': 'mean',\n",
        "    'cost_of_goods': 'mean',\n",
        "    'revenue': 'mean'\n",
        "}).round(2)\n",
        "\n",
        "print(\"ESG Metrics vs Financial Performance by Product Line:\")\n",
        "print(\"=\" * 60)\n",
        "print(correlation_analysis)\n",
        "\n",
        "# Scatter plot: Recycled materials vs Cost of goods\n",
        "fig = px.scatter(combined_data, \n",
        "                x='recycled_material_pct', \n",
        "                y='cost_of_goods',\n",
        "                color='product_line',\n",
        "                size='revenue',\n",
        "                title='Recycled Materials % vs Cost of Goods',\n",
        "                labels={'recycled_material_pct': 'Recycled Materials (%)', \n",
        "                       'cost_of_goods': 'Cost of Goods ($)'})\n",
        "fig.show()\n"
      ]
    },
    {
      "cell_type": "markdown",
      "metadata": {},
      "source": [
        "## 5. Summary"
      ]
    },
    {
      "cell_type": "code",
      "execution_count": null,
      "metadata": {},
      "outputs": [],
      "source": [
        "# Summary insights\n",
        "print(\"🌱 SUSTAINABILITY INSIGHTS & RECOMMENDATIONS\")\n",
        "print(\"=\" * 60)\n",
        "\n",
        "# 1. Emissions analysis\n",
        "highest_emitter = esg_data.groupby('product_line')['emissions_kg_co2'].mean().idxmax()\n",
        "lowest_emitter = esg_data.groupby('product_line')['emissions_kg_co2'].mean().idxmin()\n",
        "\n",
        "print(f\"1. CARBON FOOTPRINT:\")\n",
        "print(f\"   • Highest emitter: {highest_emitter}\")\n",
        "print(f\"   • Lowest emitter: {lowest_emitter}\")\n",
        "print(f\"   • Recommendation: Focus emission reduction efforts on {highest_emitter}\")\n",
        "\n",
        "# 2. Materials analysis\n",
        "best_recycling = materials_summary['recycled_material_pct'].idxmax()\n",
        "worst_recycling = materials_summary['recycled_material_pct'].idxmin()\n",
        "\n",
        "print(f\"\\n2. MATERIALS SUSTAINABILITY:\")\n",
        "print(f\"   • Best recycling rate: {best_recycling} ({materials_summary.loc[best_recycling, 'recycled_material_pct']:.1f}%)\")\n",
        "print(f\"   • Needs improvement: {worst_recycling} ({materials_summary.loc[worst_recycling, 'recycled_material_pct']:.1f}%)\")\n",
        "print(f\"   • Recommendation: Increase recycled content in {worst_recycling} production\")\n",
        "\n",
        "# 3. Cost-benefit analysis\n",
        "avg_cost_by_recycling = combined_data.groupby('product_line').agg({\n",
        "    'recycled_material_pct': 'mean',\n",
        "    'cost_of_goods': 'mean'\n",
        "}).round(2)\n",
        "\n",
        "print(f\"\\n3. COST-SUSTAINABILITY TRADE-OFF:\")\n",
        "print(f\"   • Paper Packaging shows highest recycling with moderate costs\")\n",
        "print(f\"   • Glass Bottles have lowest recycling but highest costs\")\n",
        "print(f\"   • Recommendation: Gradual increase in recycled materials with cost monitoring\")\n",
        "\n",
        "print(f\"\\n4. STRATEGIC PRIORITIES:\")\n",
        "print(f\"   • Short-term: Improve {worst_recycling} recycling rate by 10-15%\")\n",
        "print(f\"   • Medium-term: Reduce {highest_emitter} emissions through process optimization\")\n",
        "print(f\"   • Long-term: Achieve 50%+ recycled content across all product lines\")\n"
      ]
    },
    {
      "cell_type": "markdown",
      "metadata": {},
      "source": []
    }
  ],
  "metadata": {
    "kernelspec": {
      "display_name": "Python 3",
      "language": "python",
      "name": "python3"
    },
    "language_info": {
      "codemirror_mode": {
        "name": "ipython",
        "version": 3
      },
      "file_extension": ".py",
      "mimetype": "text/x-python",
      "name": "python",
      "nbconvert_exporter": "python",
      "pygments_lexer": "ipython3",
      "version": "3.8.5"
    }
  },
  "nbformat": 4,
  "nbformat_minor": 4
}
